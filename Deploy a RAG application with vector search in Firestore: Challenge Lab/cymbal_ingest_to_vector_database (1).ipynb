{
  "cells": [
    {
      "cell_type": "code",
      "id": "U6nlOKC7bmtn7mgu4rxWKExe",
      "metadata": {
        "tags": [],
        "id": "U6nlOKC7bmtn7mgu4rxWKExe",
        "colab": {
          "base_uri": "https://localhost:8080/"
        },
        "outputId": "ed9eb365-0e1c-4d84-a775-6d91fded240f"
      },
      "source": [
        "!pip install --quiet --upgrade google-cloud-logging google_cloud_firestore google_cloud_aiplatform langchain langchain-google-vertexai langchain_community langchain_experimental pymupdf\n"
      ],
      "execution_count": 1,
      "outputs": [
        {
          "output_type": "stream",
          "name": "stdout",
          "text": [
            "\u001b[?25l   \u001b[90m━━━━━━━━━━━━━━━━━━━━━━━━━━━━━━━━━━━━━━━━\u001b[0m \u001b[32m0.0/229.5 kB\u001b[0m \u001b[31m?\u001b[0m eta \u001b[36m-:--:--\u001b[0m\r\u001b[2K   \u001b[90m━━━━━━━━━━━━━━━━━━━━━━━━━━━━━━━━━━━━━━━━\u001b[0m \u001b[32m229.5/229.5 kB\u001b[0m \u001b[31m7.8 MB/s\u001b[0m eta \u001b[36m0:00:00\u001b[0m\n",
            "\u001b[?25h\u001b[?25l   \u001b[90m━━━━━━━━━━━━━━━━━━━━━━━━━━━━━━━━━━━━━━━━\u001b[0m \u001b[32m0.0/7.9 MB\u001b[0m \u001b[31m?\u001b[0m eta \u001b[36m-:--:--\u001b[0m\r\u001b[2K   \u001b[91m━━━━━━━━━━━━━\u001b[0m\u001b[91m╸\u001b[0m\u001b[90m━━━━━━━━━━━━━━━━━━━━━━━━━━\u001b[0m \u001b[32m2.7/7.9 MB\u001b[0m \u001b[31m82.3 MB/s\u001b[0m eta \u001b[36m0:00:01\u001b[0m\r\u001b[2K   \u001b[91m━━━━━━━━━━━━━━━━━━━━━━━━━━━━━━━━━━━━━━━\u001b[0m\u001b[91m╸\u001b[0m \u001b[32m7.9/7.9 MB\u001b[0m \u001b[31m121.9 MB/s\u001b[0m eta \u001b[36m0:00:01\u001b[0m\r\u001b[2K   \u001b[90m━━━━━━━━━━━━━━━━━━━━━━━━━━━━━━━━━━━━━━━━\u001b[0m \u001b[32m7.9/7.9 MB\u001b[0m \u001b[31m80.2 MB/s\u001b[0m eta \u001b[36m0:00:00\u001b[0m\n",
            "\u001b[2K   \u001b[90m━━━━━━━━━━━━━━━━━━━━━━━━━━━━━━━━━━━━━━━━\u001b[0m \u001b[32m1.0/1.0 MB\u001b[0m \u001b[31m60.6 MB/s\u001b[0m eta \u001b[36m0:00:00\u001b[0m\n",
            "\u001b[2K   \u001b[90m━━━━━━━━━━━━━━━━━━━━━━━━━━━━━━━━━━━━━━━━\u001b[0m \u001b[32m101.0/101.0 kB\u001b[0m \u001b[31m12.6 MB/s\u001b[0m eta \u001b[36m0:00:00\u001b[0m\n",
            "\u001b[2K   \u001b[90m━━━━━━━━━━━━━━━━━━━━━━━━━━━━━━━━━━━━━━━━\u001b[0m \u001b[32m2.5/2.5 MB\u001b[0m \u001b[31m94.7 MB/s\u001b[0m eta \u001b[36m0:00:00\u001b[0m\n",
            "\u001b[2K   \u001b[90m━━━━━━━━━━━━━━━━━━━━━━━━━━━━━━━━━━━━━━━━\u001b[0m \u001b[32m209.2/209.2 kB\u001b[0m \u001b[31m24.0 MB/s\u001b[0m eta \u001b[36m0:00:00\u001b[0m\n",
            "\u001b[2K   \u001b[90m━━━━━━━━━━━━━━━━━━━━━━━━━━━━━━━━━━━━━━━━\u001b[0m \u001b[32m24.1/24.1 MB\u001b[0m \u001b[31m67.8 MB/s\u001b[0m eta \u001b[36m0:00:00\u001b[0m\n",
            "\u001b[2K   \u001b[90m━━━━━━━━━━━━━━━━━━━━━━━━━━━━━━━━━━━━━━━━\u001b[0m \u001b[32m442.8/442.8 kB\u001b[0m \u001b[31m39.5 MB/s\u001b[0m eta \u001b[36m0:00:00\u001b[0m\n",
            "\u001b[2K   \u001b[90m━━━━━━━━━━━━━━━━━━━━━━━━━━━━━━━━━━━━━━━━\u001b[0m \u001b[32m65.6/65.6 kB\u001b[0m \u001b[31m7.3 MB/s\u001b[0m eta \u001b[36m0:00:00\u001b[0m\n",
            "\u001b[2K   \u001b[90m━━━━━━━━━━━━━━━━━━━━━━━━━━━━━━━━━━━━━━━━\u001b[0m \u001b[32m42.1/42.1 MB\u001b[0m \u001b[31m45.2 MB/s\u001b[0m eta \u001b[36m0:00:00\u001b[0m\n",
            "\u001b[2K   \u001b[90m━━━━━━━━━━━━━━━━━━━━━━━━━━━━━━━━━━━━━━━━\u001b[0m \u001b[32m45.2/45.2 kB\u001b[0m \u001b[31m4.5 MB/s\u001b[0m eta \u001b[36m0:00:00\u001b[0m\n",
            "\u001b[2K   \u001b[90m━━━━━━━━━━━━━━━━━━━━━━━━━━━━━━━━━━━━━━━━\u001b[0m \u001b[32m44.7/44.7 kB\u001b[0m \u001b[31m4.7 MB/s\u001b[0m eta \u001b[36m0:00:00\u001b[0m\n",
            "\u001b[2K   \u001b[90m━━━━━━━━━━━━━━━━━━━━━━━━━━━━━━━━━━━━━━━━\u001b[0m \u001b[32m50.9/50.9 kB\u001b[0m \u001b[31m6.0 MB/s\u001b[0m eta \u001b[36m0:00:00\u001b[0m\n",
            "\u001b[?25h"
          ]
        }
      ]
    },
    {
      "cell_type": "code",
      "source": [
        "import vertexai\n",
        "import logging\n",
        "import google.cloud.logging\n",
        "from vertexai.language_models import TextEmbeddingModel\n",
        "from vertexai.generative_models import GenerativeModel\n",
        "\n",
        "import pickle\n",
        "from IPython.display import display, Markdown\n",
        "\n",
        "from langchain_google_vertexai import VertexAIEmbeddings\n",
        "from langchain_community.document_loaders import PyMuPDFLoader\n",
        "from langchain_experimental.text_splitter import SemanticChunker\n",
        "\n",
        "from google.cloud import firestore\n",
        "from google.cloud.firestore_v1.vector import Vector\n",
        "from google.cloud.firestore_v1.base_vector_query import DistanceMeasure\n"
      ],
      "metadata": {
        "id": "aDjEqC3wxZ1g"
      },
      "id": "aDjEqC3wxZ1g",
      "execution_count": 1,
      "outputs": []
    },
    {
      "cell_type": "code",
      "source": [
        "vertexai.init(project=\"qwiklabs-gcp-04-41f829ec5739\", location=\"us-central1\")\n",
        "\n",
        "embedding_model = VertexAIEmbeddings(model_name=\"text-embedding-005\")\n"
      ],
      "metadata": {
        "colab": {
          "base_uri": "https://localhost:8080/"
        },
        "id": "uuZ-auQJxj4P",
        "outputId": "a4da8000-dcb3-4bcf-f3a0-b25d8c9e67d9"
      },
      "id": "uuZ-auQJxj4P",
      "execution_count": 2,
      "outputs": [
        {
          "output_type": "stream",
          "name": "stderr",
          "text": [
            "/usr/local/lib/python3.11/dist-packages/vertexai/_model_garden/_model_garden_models.py:278: UserWarning: This feature is deprecated as of June 24, 2025 and will be removed on June 24, 2026. For details, see https://cloud.google.com/vertex-ai/generative-ai/docs/deprecations/genai-vertexai-sdk.\n",
            "  warning_logs.show_deprecation_warning()\n"
          ]
        }
      ]
    },
    {
      "cell_type": "markdown",
      "source": [],
      "metadata": {
        "id": "yErMs1lgvruy"
      },
      "id": "yErMs1lgvruy"
    },
    {
      "cell_type": "code",
      "source": [
        "!gcloud storage cp gs://partner-genai-bucket/genai069/nyc_food_safety_manual.pdf .\n"
      ],
      "metadata": {
        "id": "A9zh1zZTvrWW",
        "colab": {
          "base_uri": "https://localhost:8080/"
        },
        "outputId": "00e5b72b-ca68-496f-dbff-1c4ba122cb85"
      },
      "id": "A9zh1zZTvrWW",
      "execution_count": 3,
      "outputs": [
        {
          "output_type": "stream",
          "name": "stdout",
          "text": [
            "Copying gs://partner-genai-bucket/genai069/nyc_food_safety_manual.pdf to file://./nyc_food_safety_manual.pdf\n",
            "\n",
            "Average throughput: 175.3MiB/s\n"
          ]
        }
      ]
    },
    {
      "cell_type": "code",
      "source": [
        "data = PyMuPDFLoader(\"nyc_food_safety_manual.pdf\").load()\n"
      ],
      "metadata": {
        "id": "mgeFW8eexrF7"
      },
      "id": "mgeFW8eexrF7",
      "execution_count": 4,
      "outputs": []
    },
    {
      "cell_type": "code",
      "source": [
        "def clean_page(page):\n",
        "    return page.page_content.replace(\"-\\n\", \"\")\\\n",
        "                            .replace(\"\\n\", \" \")\\\n",
        "                            .replace(\"\\x02\", \"\")\\\n",
        "                            .replace(\"\\x03\", \"\")\\\n",
        "                            .replace(\"fo d P R O T E C T I O N  T R A I N I N G  M A N U A L\", \"\")\\\n",
        "                            .replace(\"N E W  Y O R K  C I T Y  D E P A R T M E N T  O F  H E A L T H  &  M E N T A L  H Y G I E N E\", \"\")\n",
        "\n",
        "cleaned_pages = [clean_page(page) for page in data]\n"
      ],
      "metadata": {
        "id": "wGqXi9g_xtzr"
      },
      "id": "wGqXi9g_xtzr",
      "execution_count": 5,
      "outputs": []
    },
    {
      "cell_type": "code",
      "source": [
        "semantic_chunker = SemanticChunker(embedding_model)\n",
        "chunked_docs = []\n",
        "\n",
        "for i in range(5):\n",
        "    docs = semantic_chunker.create_documents([cleaned_pages[i]])\n",
        "    chunked_docs.extend(docs)\n",
        "\n",
        "chunked_content = [doc.page_content for doc in chunked_docs]\n"
      ],
      "metadata": {
        "id": "JtyXlCIYxvYx"
      },
      "id": "JtyXlCIYxvYx",
      "execution_count": 6,
      "outputs": []
    },
    {
      "cell_type": "code",
      "source": [
        "chunked_embeddings = embedding_model.embed_documents(chunked_content)\n"
      ],
      "metadata": {
        "id": "DzemF3zKxxFs"
      },
      "id": "DzemF3zKxxFs",
      "execution_count": 7,
      "outputs": []
    },
    {
      "cell_type": "code",
      "source": [
        "!gcloud storage cp gs://partner-genai-bucket/genai069/chunked_content.pkl .\n",
        "!gcloud storage cp gs://partner-genai-bucket/genai069/chunked_embeddings.pkl .\n",
        "\n",
        "import pickle\n",
        "chunked_content = pickle.load(open(\"chunked_content.pkl\", \"rb\"))\n",
        "chunked_embeddings = pickle.load(open(\"chunked_embeddings.pkl\", \"rb\"))\n"
      ],
      "metadata": {
        "id": "7WB-YbVdxy4a",
        "outputId": "9b9462a6-8889-4796-d46a-0cfaf7071826",
        "colab": {
          "base_uri": "https://localhost:8080/"
        }
      },
      "id": "7WB-YbVdxy4a",
      "execution_count": 8,
      "outputs": [
        {
          "output_type": "stream",
          "name": "stdout",
          "text": [
            "Copying gs://partner-genai-bucket/genai069/chunked_content.pkl to file://./chunked_content.pkl\n",
            "Copying gs://partner-genai-bucket/genai069/chunked_embeddings.pkl to file://./chunked_embeddings.pkl\n",
            "\n",
            "Average throughput: 158.3MiB/s\n"
          ]
        }
      ]
    },
    {
      "cell_type": "code",
      "source": [
        "client = google.cloud.logging.Client()\n",
        "client.setup_logging()\n",
        "log_message = f\"chunked contents are: {chunked_content[0][:20]}\"\n",
        "logging.info(log_message)\n"
      ],
      "metadata": {
        "id": "iqwHxGBSx0tJ",
        "outputId": "8dec8c50-afcf-485f-f9ee-540e653186ba",
        "colab": {
          "base_uri": "https://localhost:8080/"
        }
      },
      "id": "iqwHxGBSx0tJ",
      "execution_count": 9,
      "outputs": [
        {
          "output_type": "stream",
          "name": "stderr",
          "text": [
            "INFO:root:chunked contents are: The Health Code Thes\n"
          ]
        }
      ]
    },
    {
      "cell_type": "code",
      "source": [
        "db = firestore.Client()\n",
        "collection = db.collection('food-safety')\n"
      ],
      "metadata": {
        "id": "SKf8OKBwx3Sx"
      },
      "id": "SKf8OKBwx3Sx",
      "execution_count": 22,
      "outputs": []
    },
    {
      "cell_type": "code",
      "source": [
        "import random\n",
        "for content, embedding in zip(chunked_content, chunked_embeddings):\n",
        "    doc_ref = collection.document()\n",
        "    doc_ref.set({\n",
        "        'content': content,\n",
        "        'embedding': Vector(embedding)\n",
        "    })\n"
      ],
      "metadata": {
        "id": "4zOyFLZTzMQG"
      },
      "id": "4zOyFLZTzMQG",
      "execution_count": 23,
      "outputs": []
    },
    {
      "cell_type": "code",
      "source": [
        "def search_vector_database(query: str):\n",
        "    context = \"\"\n",
        "\n",
        "    # 1. Generate the embedding of the query\n",
        "    query_embedding = embedding_model.embed_query(query)\n",
        "\n",
        "    # Wrap in Firestore Vector class\n",
        "    query_vector = Vector(query_embedding)\n",
        "\n",
        "    # 2. Get the 5 nearest neighbors - no 'field' parameter\n",
        "    docs = collection.find_nearest(\n",
        "        query_vector=query_vector,\n",
        "        distance_measure=DistanceMeasure.DOT_PRODUCT,\n",
        "        limit=5\n",
        "    ).get()\n",
        "\n",
        "    # 3. Compile context from retrieved docs\n",
        "    pieces = []\n",
        "    for doc in docs:\n",
        "        data = doc.to_dict()\n",
        "        if 'content' in data:\n",
        "            pieces.append(data['content'])\n",
        "    context = \"\\n\".join(pieces)\n",
        "\n",
        "    return context\n"
      ],
      "metadata": {
        "id": "NqMdTOKDznuG"
      },
      "id": "NqMdTOKDznuG",
      "execution_count": 24,
      "outputs": []
    },
    {
      "cell_type": "code",
      "source": [
        "def search_vector_database(query: str):\n",
        "    query_embedding = embedding_model.embed_query(query)\n",
        "    query_vector = Vector(query_embedding)\n",
        "    docs = collection.find_nearest(\n",
        "        \"embedding\",\n",
        "        query_vector=query_vector,\n",
        "        distance_measure=DistanceMeasure.DOT_PRODUCT,\n",
        "        limit=5\n",
        "    ).get()\n",
        "\n",
        "    pieces = []\n",
        "    for doc in docs:\n",
        "        data = doc.to_dict()\n",
        "        if \"content\" in data:\n",
        "            pieces.append(data[\"content\"])\n",
        "\n",
        "    context = \"\\n\".join(pieces)\n",
        "    return context\n",
        "\n",
        "# Test the function\n",
        "result = search_vector_database(\"How should I store food?\")\n",
        "print(result)"
      ],
      "metadata": {
        "colab": {
          "base_uri": "https://localhost:8080/"
        },
        "id": "h604Tjmz4YNz",
        "outputId": "83c2a11d-0217-4ff9-b679-619708bf5ce6"
      },
      "id": "h604Tjmz4YNz",
      "execution_count": 31,
      "outputs": [
        {
          "output_type": "stream",
          "name": "stdout",
          "text": [
            " Store foods away from dripping condensate , at least six inches above the floor and with enough space between items to encourage air circulation. Freezer Storage Freezing is an excellent method for prolonging the shelf life of foods. By keeping foods frozen solid, the bacterial growth is minimal at best. However, if frozen foods are thawed and then refrozen, then harmful bacteria can reproduce to dangerous levels when thawed for the second time. In addition to that, the quality of the food is also affected. Never refreeze thawed foods, instead use them immediately. Keep the following rules in mind for freezer storage:  Use First In First Out method of stock rotation. All frozen foods should be frozen solid with temperature at 0°F or lower. Always use clean containers that are clearly labeled and marked, and have proper and secure lids. Allow adequate spacing between food containers to allow for proper air circulation. Never use the freezer for cooling hot foods. * * Tip: When receiving multiple items, always store the frozen foods first, then foods that are to be refrigerated, and finally the non perishable dry goods. Dry Storage Proper storage of dry foods such as cereals, flour, rice, starches, spices, canned goods, packaged foods and vegetables that do not require refrigeration ensures that these foods will still be usable when needed. Adequate storage space as well as low humidity (50% or less), and low temperatures (70 °F or less) are strongly recommended.\n",
            " Store foods away from dripping condensate , at least six inches above the floor and with enough space between items to encourage air circulation. Freezer Storage Freezing is an excellent method for prolonging the shelf life of foods. By keeping foods frozen solid, the bacterial growth is minimal at best. However, if frozen foods are thawed and then refrozen, then harmful bacteria can reproduce to dangerous levels when thawed for the second time. In addition to that, the quality of the food is also affected. Never refreeze thawed foods, instead use them immediately. Keep the following rules in mind for freezer storage:  Use First In First Out method of stock rotation. All frozen foods should be frozen solid with temperature at 0°F or lower. Always use clean containers that are clearly labeled and marked, and have proper and secure lids. Allow adequate spacing between food containers to allow for proper air circulation. Never use the freezer for cooling hot foods. * * Tip: When receiving multiple items, always store the frozen foods first, then foods that are to be refrigerated, and finally the non perishable dry goods. Dry Storage Proper storage of dry foods such as cereals, flour, rice, starches, spices, canned goods, packaged foods and vegetables that do not require refrigeration ensures that these foods will still be usable when needed. Adequate storage space as well as low humidity (50% or less), and low temperatures (70 °F or less) are strongly recommended.\n",
            " Store foods away from dripping condensate , at least six inches above the floor and with enough space between items to encourage air circulation. Freezer Storage Freezing is an excellent method for prolonging the shelf life of foods. By keeping foods frozen solid, the bacterial growth is minimal at best. However, if frozen foods are thawed and then refrozen, then harmful bacteria can reproduce to dangerous levels when thawed for the second time. In addition to that, the quality of the food is also affected. Never refreeze thawed foods, instead use them immediately. Keep the following rules in mind for freezer storage:  Use First In First Out method of stock rotation. All frozen foods should be frozen solid with temperature at 0°F or lower. Always use clean containers that are clearly labeled and marked, and have proper and secure lids. Allow adequate spacing between food containers to allow for proper air circulation. Never use the freezer for cooling hot foods. * * Tip: When receiving multiple items, always store the frozen foods first, then foods that are to be refrigerated, and finally the non perishable dry goods. Dry Storage Proper storage of dry foods such as cereals, flour, rice, starches, spices, canned goods, packaged foods and vegetables that do not require refrigeration ensures that these foods will still be usable when needed. Adequate storage space as well as low humidity (50% or less), and low temperatures (70 °F or less) are strongly recommended.\n",
            "Only use food containers that are clean, non-absorbent and are made from food-grade material intended for such use. Containers made from metal may react with certain type of high acid foods such as sauerkraut, citrus juices, tomato sauce, etc. Plastic food-grade containers are the best choice for these types of foods. Containers made of copper, brass, tin and galvanized metal should not be used. The use of such products is prohibited. Re-using cardboard containers to store cooked foods is also a source of contamination. Lining containers with newspapers, menus or other publication before placing foods is also prohibited as chemical dyes from these can easily leach into foods. Storage Areas Foods should only be stored in designated areas. Storing foods in passageways, rest rooms, garbage areas, utility rooms, etc. would subject these to contamination. Raw foods must always be stored below and away from cooked foods to avoid cross contamination. Refrigerated Storage This type of storage is typically used for holding potentially hazardous foods as well as perishable foods for short periods of time—a few hours to a few days. An adequate number of efficient refrigerated units are required to store potentially hazardous cold foods. By keeping cold foods cold, the microorganisms that are found naturally on these foods are kept to a minimum. Cold temperature does not kill microorganisms, however, it slows down their growth. Pre-packaged cold foods must be stored at temperatures recommended by the manufacturer. This is especially important when dealing with vacuum packed foods, modified atmosphere packages and sous vide foods. Smoked fish is required by the Health Code to be stored at 38°F or below. Fresh meat, poultry and other potentially hazardous foods must be stored at 41°F or below, while frozen foods must be stored at 0°F or below. For foods to be maintained at these temperatures, refrigerators and freezers must be operating at temperatures lower than 41°F and 0°F., respectively. Thermometers placed in the warmest part of a refrigerated unit are necessary to monitor the temperature of each unit. The rule of storage, First In First Out (FIFO) ensures that older deliveries are used up before newer ones. In practicing FIFO, the very first step would be to date all products as they are received. The next step is to store the newer products behind the older ones. The following rules are important in making sure that foods are safe during refrigerated storage:  Store cooked foods above raw foods to avoid cross-contamination. Keep cooked food items covered unless they are in the process of cooling, in which case they must be covered after being cooled to 41°F. Avoid placing large pots of hot foods in a refrigerator.\n",
            "Only use food containers that are clean, non-absorbent and are made from food-grade material intended for such use. Containers made from metal may react with certain type of high acid foods such as sauerkraut, citrus juices, tomato sauce, etc. Plastic food-grade containers are the best choice for these types of foods. Containers made of copper, brass, tin and galvanized metal should not be used. The use of such products is prohibited. Re-using cardboard containers to store cooked foods is also a source of contamination. Lining containers with newspapers, menus or other publication before placing foods is also prohibited as chemical dyes from these can easily leach into foods. Storage Areas Foods should only be stored in designated areas. Storing foods in passageways, rest rooms, garbage areas, utility rooms, etc. would subject these to contamination. Raw foods must always be stored below and away from cooked foods to avoid cross contamination. Refrigerated Storage This type of storage is typically used for holding potentially hazardous foods as well as perishable foods for short periods of time—a few hours to a few days. An adequate number of efficient refrigerated units are required to store potentially hazardous cold foods. By keeping cold foods cold, the microorganisms that are found naturally on these foods are kept to a minimum. Cold temperature does not kill microorganisms, however, it slows down their growth. Pre-packaged cold foods must be stored at temperatures recommended by the manufacturer. This is especially important when dealing with vacuum packed foods, modified atmosphere packages and sous vide foods. Smoked fish is required by the Health Code to be stored at 38°F or below. Fresh meat, poultry and other potentially hazardous foods must be stored at 41°F or below, while frozen foods must be stored at 0°F or below. For foods to be maintained at these temperatures, refrigerators and freezers must be operating at temperatures lower than 41°F and 0°F., respectively. Thermometers placed in the warmest part of a refrigerated unit are necessary to monitor the temperature of each unit. The rule of storage, First In First Out (FIFO) ensures that older deliveries are used up before newer ones. In practicing FIFO, the very first step would be to date all products as they are received. The next step is to store the newer products behind the older ones. The following rules are important in making sure that foods are safe during refrigerated storage:  Store cooked foods above raw foods to avoid cross-contamination. Keep cooked food items covered unless they are in the process of cooling, in which case they must be covered after being cooled to 41°F. Avoid placing large pots of hot foods in a refrigerator.\n"
          ]
        }
      ]
    }
  ],
  "metadata": {
    "kernelspec": {
      "display_name": "Python 3",
      "language": "python",
      "name": "python3"
    },
    "language_info": {
      "codemirror_mode": {
        "name": "ipython",
        "version": 3
      },
      "file_extension": ".py",
      "mimetype": "text/x-python",
      "name": "python",
      "nbconvert_exporter": "python",
      "pygments_lexer": "ipython3",
      "version": "3.10.10"
    },
    "colab": {
      "provenance": [],
      "name": "cymbal_ingest_to_vector_database.ipynb"
    }
  },
  "nbformat": 4,
  "nbformat_minor": 5
}